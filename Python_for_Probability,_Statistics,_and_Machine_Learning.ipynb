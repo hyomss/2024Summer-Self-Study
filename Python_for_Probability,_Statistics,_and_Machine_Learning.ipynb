{
  "nbformat": 4,
  "nbformat_minor": 0,
  "metadata": {
    "colab": {
      "provenance": [],
      "authorship_tag": "ABX9TyMnhBKcJdENsoiFeBc7es5K"
    },
    "kernelspec": {
      "name": "python3",
      "display_name": "Python 3"
    },
    "language_info": {
      "name": "python"
    }
  },
  "cells": [
    {
      "cell_type": "markdown",
      "source": [
        "# Hypothesis Testing and P-Values"
      ],
      "metadata": {
        "id": "gD16JgmSoaIg"
      }
    },
    {
      "cell_type": "markdown",
      "source": [
        "## 3.5.1 Back to the Coin Flipping Example"
      ],
      "metadata": {
        "id": "xiiIBQopojcw"
      }
    },
    {
      "cell_type": "code",
      "execution_count": null,
      "metadata": {
        "colab": {
          "base_uri": "https://localhost:8080/"
        },
        "id": "ailWrv7ehpaI",
        "outputId": "3e1d90da-ec9c-4471-ce93-30c3607f27d4"
      },
      "outputs": [
        {
          "output_type": "stream",
          "name": "stdout",
          "text": [
            "0.0176001001088524\n",
            "0.979011423996075\n",
            "0.999996391579885\n"
          ]
        }
      ],
      "source": [
        "from sympy import Symbol\n",
        "from sympy.stats import P, Binomial\n",
        "import numpy as np\n",
        "import matplotlib.pyplot as plt\n",
        "\n",
        "theta = Symbol('theta', real = True)\n",
        "X = Binomial('x',100, theta)\n",
        "beto_function = P(X>60)\n",
        "print(beto_function.subs(theta, 0.5)) # alpha\n",
        "print(beto_function.subs(theta, 0.7))\n",
        "print(beto_function.subs(theta, 0.8))"
      ]
    },
    {
      "cell_type": "code",
      "source": [
        "from scipy import stats\n",
        "rv = stats.bernoulli(0.5) # true p = 0.5\n",
        "# number of false positive ~ 0.018\n",
        "print(sum(rv.rvs((1000,100)).sum(axis=1)>60)/1000.)\n",
        "# 1000 trails where each trial consists of 100 coin flips.\n",
        "# sum of the columns that have more than 60 heads\n",
        "# result: Probability of FP when true P = 0.5"
      ],
      "metadata": {
        "colab": {
          "base_uri": "https://localhost:8080/"
        },
        "id": "SJ02lGv_iMip",
        "outputId": "4d0c7505-4672-4df2-b340-94066c5b55b3"
      },
      "execution_count": null,
      "outputs": [
        {
          "output_type": "stream",
          "name": "stdout",
          "text": [
            "0.018\n"
          ]
        }
      ]
    },
    {
      "cell_type": "markdown",
      "source": [
        "## Receiver Operating Characteristic (ROC)"
      ],
      "metadata": {
        "id": "C040ON6iotG9"
      }
    },
    {
      "cell_type": "code",
      "source": [],
      "metadata": {
        "id": "adtyFqz7iMlQ"
      },
      "execution_count": null,
      "outputs": []
    },
    {
      "cell_type": "code",
      "source": [],
      "metadata": {
        "id": "O9Xl4hyJiMoH"
      },
      "execution_count": null,
      "outputs": []
    },
    {
      "cell_type": "code",
      "source": [],
      "metadata": {
        "id": "zcAWabAUiMrB"
      },
      "execution_count": null,
      "outputs": []
    },
    {
      "cell_type": "code",
      "source": [],
      "metadata": {
        "id": "BMQUkCu3iMtl"
      },
      "execution_count": null,
      "outputs": []
    },
    {
      "cell_type": "code",
      "source": [],
      "metadata": {
        "id": "E4XAuGCfiMwO"
      },
      "execution_count": null,
      "outputs": []
    },
    {
      "cell_type": "code",
      "source": [],
      "metadata": {
        "id": "2-SHgJpfiMyz"
      },
      "execution_count": null,
      "outputs": []
    }
  ]
}